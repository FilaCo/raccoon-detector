{
 "cells": [
  {
   "cell_type": "code",
   "execution_count": 1,
   "metadata": {
    "collapsed": true
   },
   "outputs": [
    {
     "name": "stdout",
     "output_type": "stream",
     "text": [
      "         filename  width  height    class  xmin  ymin  xmax  ymax\n",
      "0  raccoon-17.jpg    259     194  raccoon    95    60   167   118\n",
      "1  raccoon-11.jpg    660     432  raccoon     3     1   461   431\n",
      "2  raccoon-63.jpg    600     400  raccoon    74   107   280   290\n",
      "3  raccoon-63.jpg    600     400  raccoon   227    93   403   298\n",
      "4  raccoon-60.jpg    273     185  raccoon    58    33   197   127\n"
     ]
    }
   ],
   "source": [
    "import pandas as pd\n",
    "import tensorflow as tf\n",
    "\n",
    "TRAIN_LABELS_FILEPATH = './data/train_labels_.csv'\n",
    "IMAGES_DIR_PATH = './data/images/'\n",
    "\n",
    "# Считываем данные\n",
    "df_train_labels = pd.read_csv(TRAIN_LABELS_FILEPATH)\n",
    "print(df_train_labels.head())"
   ]
  }
 ],
 "metadata": {
  "kernelspec": {
   "display_name": "Python 3",
   "language": "python",
   "name": "python3"
  },
  "language_info": {
   "codemirror_mode": {
    "name": "ipython",
    "version": 2
   },
   "file_extension": ".py",
   "mimetype": "text/x-python",
   "name": "python",
   "nbconvert_exporter": "python",
   "pygments_lexer": "ipython2",
   "version": "2.7.6"
  }
 },
 "nbformat": 4,
 "nbformat_minor": 0
}